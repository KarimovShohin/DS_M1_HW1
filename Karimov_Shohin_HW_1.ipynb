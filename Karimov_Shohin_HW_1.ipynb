{
 "cells": [
  {
   "cell_type": "code",
   "execution_count": 320,
   "metadata": {},
   "outputs": [],
   "source": [
    "import pandas as pd\n",
    "import numpy as np"
   ]
  },
  {
   "cell_type": "code",
   "execution_count": 260,
   "metadata": {},
   "outputs": [],
   "source": [
    "import warnings\n",
    "warnings.filterwarnings('ignore')"
   ]
  },
  {
   "cell_type": "markdown",
   "metadata": {},
   "source": [
    "### 1. Загрузка и предобработка данных"
   ]
  },
  {
   "cell_type": "markdown",
   "metadata": {},
   "source": [
    "- 📥 **Загрузите набор данных** Bank Customer Churn Prediction и обработайте пропуски."
   ]
  },
  {
   "cell_type": "code",
   "execution_count": 345,
   "metadata": {},
   "outputs": [],
   "source": [
    "def read_csv():\n",
    "    return pd.read_csv(\"Bank Customer Churn Prediction.csv\")\n",
    "\n",
    "data = read_csv()\n",
    "data.dropna(inplace=True)\n",
    "\n",
    "# Есть также способ:\n",
    "# data = data.dropna().copy(deep=True)"
   ]
  },
  {
   "cell_type": "markdown",
   "metadata": {},
   "source": [
    "- 🔄 **Разделите данные на признаки (X) и целевую переменную (y).**"
   ]
  },
  {
   "cell_type": "code",
   "execution_count": 346,
   "metadata": {},
   "outputs": [],
   "source": [
    "X = data.drop(['churn'], axis=1)\n",
    "y = data['churn']"
   ]
  },
  {
   "cell_type": "markdown",
   "metadata": {},
   "source": [
    "- 📈 **Выведите корреляционную сортированную таблицу** признаков и таргета для определения самых важных признаков, которые влияют на целевую переменную (либо в виде сортированного графика)."
   ]
  },
  {
   "cell_type": "markdown",
   "metadata": {},
   "source": [
    "PS: В таблице находятся качественные переменные, чтобы сравнить корреляцию я (Каримов Шохин) хочу сделать качественные переменные\n",
    "фиктивными. Но обычно при обучении модели (в регрессии в частности) одно значение качественных переменных удаляется чтобы не было мультиколлиниальности. Я не знаю как вы будете считать правильным для сравнение корреляции независимых переменных с таргетом (оставление всех значений качественных переменных или удаление одного с каждого), поэтому я создам оба варианта. "
   ]
  },
  {
   "cell_type": "markdown",
   "metadata": {},
   "source": [
    "Первый вариант со всеми значениями"
   ]
  },
  {
   "cell_type": "code",
   "execution_count": 344,
   "metadata": {},
   "outputs": [],
   "source": [
    "data_encoded = pd.get_dummies(data, dtype=int)"
   ]
  },
  {
   "cell_type": "code",
   "execution_count": 264,
   "metadata": {},
   "outputs": [
    {
     "data": {
      "text/plain": [
       "churn               1.000000\n",
       "age                 0.285323\n",
       "country_Germany     0.173488\n",
       "balance             0.118533\n",
       "gender_Female       0.106512\n",
       "estimated_salary    0.012097\n",
       "customer_id        -0.006248\n",
       "credit_card        -0.007138\n",
       "tenure             -0.014001\n",
       "credit_score       -0.027094\n",
       "products_number    -0.047820\n",
       "country_Spain      -0.052667\n",
       "country_France     -0.104955\n",
       "gender_Male        -0.106512\n",
       "active_member      -0.156128\n",
       "Name: churn, dtype: float64"
      ]
     },
     "execution_count": 264,
     "metadata": {},
     "output_type": "execute_result"
    }
   ],
   "source": [
    "data_encoded.corr()['churn'].sort_values(ascending=False)"
   ]
  },
  {
   "cell_type": "markdown",
   "metadata": {},
   "source": [
    "Второй вариант с удаленными первыми значениями с каждой колонки"
   ]
  },
  {
   "cell_type": "code",
   "execution_count": 265,
   "metadata": {},
   "outputs": [],
   "source": [
    "data_encoded = pd.get_dummies(data, drop_first=True, dtype=int)"
   ]
  },
  {
   "cell_type": "code",
   "execution_count": 266,
   "metadata": {},
   "outputs": [
    {
     "data": {
      "text/plain": [
       "churn               1.000000\n",
       "age                 0.285323\n",
       "country_Germany     0.173488\n",
       "balance             0.118533\n",
       "estimated_salary    0.012097\n",
       "customer_id        -0.006248\n",
       "credit_card        -0.007138\n",
       "tenure             -0.014001\n",
       "credit_score       -0.027094\n",
       "products_number    -0.047820\n",
       "country_Spain      -0.052667\n",
       "gender_Male        -0.106512\n",
       "active_member      -0.156128\n",
       "Name: churn, dtype: float64"
      ]
     },
     "execution_count": 266,
     "metadata": {},
     "output_type": "execute_result"
    }
   ],
   "source": [
    "data_encoded.corr()['churn'].sort_values(ascending=False)"
   ]
  },
  {
   "cell_type": "markdown",
   "metadata": {},
   "source": [
    "- 📊 **Выведите распределение целевой переменной в процентном соотношении.**\n"
   ]
  },
  {
   "cell_type": "code",
   "execution_count": 267,
   "metadata": {},
   "outputs": [
    {
     "data": {
      "text/plain": [
       "churn\n",
       "0    0.7963\n",
       "1    0.2037\n",
       "Name: proportion, dtype: float64"
      ]
     },
     "execution_count": 267,
     "metadata": {},
     "output_type": "execute_result"
    }
   ],
   "source": [
    "y.value_counts(normalize=True)"
   ]
  },
  {
   "cell_type": "markdown",
   "metadata": {},
   "source": [
    "### 2. Удерживающая проверка (Hold-Out CV)"
   ]
  },
  {
   "cell_type": "code",
   "execution_count": 268,
   "metadata": {},
   "outputs": [],
   "source": [
    "from catboost import CatBoostClassifier, Pool\n",
    "from sklearn.model_selection import train_test_split\n",
    "from sklearn.metrics import roc_auc_score"
   ]
  },
  {
   "cell_type": "markdown",
   "metadata": {},
   "source": [
    "- ✂️ **Разделите данные на обучающую и тестовую выборки** в соотношении 80/20."
   ]
  },
  {
   "cell_type": "code",
   "execution_count": 347,
   "metadata": {},
   "outputs": [],
   "source": [
    "X_train, X_test, y_train, y_test = train_test_split(X, y, test_size=0.2, random_state = 11)"
   ]
  },
  {
   "cell_type": "markdown",
   "metadata": {},
   "source": [
    "- 🧠 **Обучите модель** CatBoostClassifier с использованием обучающей выборки."
   ]
  },
  {
   "cell_type": "code",
   "execution_count": 348,
   "metadata": {},
   "outputs": [],
   "source": [
    "cat_features = ['country', 'gender']\n",
    "\n",
    "train_pool = Pool(data = X_train, label = y_train, cat_features = cat_features)\n",
    "\n",
    "test_pool = Pool(data = X_test, label = y_test, cat_features = cat_features)"
   ]
  },
  {
   "cell_type": "code",
   "execution_count": 349,
   "metadata": {},
   "outputs": [
    {
     "data": {
      "application/vnd.jupyter.widget-view+json": {
       "model_id": "ac9cc5b7c8c14e72bc95cc591c19a8a9",
       "version_major": 2,
       "version_minor": 0
      },
      "text/plain": [
       "MetricVisualizer(layout=Layout(align_self='stretch', height='500px'))"
      ]
     },
     "metadata": {},
     "output_type": "display_data"
    },
    {
     "data": {
      "text/plain": [
       "<catboost.core.CatBoostClassifier at 0x1e758998980>"
      ]
     },
     "execution_count": 349,
     "metadata": {},
     "output_type": "execute_result"
    }
   ],
   "source": [
    "model = CatBoostClassifier(random_state=11, depth=2, eval_metric='AUC', verbose=0)\n",
    "model.fit(train_pool, eval_set = test_pool, plot=True)"
   ]
  },
  {
   "cell_type": "markdown",
   "metadata": {},
   "source": [
    "- 📊 **Оцените её производительность** на тестовой выборке, используя метрику AUC."
   ]
  },
  {
   "cell_type": "code",
   "execution_count": 329,
   "metadata": {},
   "outputs": [],
   "source": [
    "scores_table = pd.DataFrame(columns=['name', 'AUC_mean', 'AUC_std', 'Accuracy_mean', 'Accuracy_std'])"
   ]
  },
  {
   "cell_type": "markdown",
   "metadata": {},
   "source": [
    "Оценка AUC (способ №1)"
   ]
  },
  {
   "cell_type": "code",
   "execution_count": 272,
   "metadata": {},
   "outputs": [],
   "source": [
    "y_pred_proba_test = model.predict_proba(test_pool)[:, 1]\n",
    "auc_test = roc_auc_score(y_test, y_pred_proba_test)"
   ]
  },
  {
   "cell_type": "code",
   "execution_count": 273,
   "metadata": {},
   "outputs": [
    {
     "data": {
      "text/plain": [
       "0.8643278816052797"
      ]
     },
     "execution_count": 273,
     "metadata": {},
     "output_type": "execute_result"
    }
   ],
   "source": [
    "auc_test"
   ]
  },
  {
   "cell_type": "markdown",
   "metadata": {},
   "source": [
    "Оценка AUC (способ №2)"
   ]
  },
  {
   "cell_type": "code",
   "execution_count": 308,
   "metadata": {},
   "outputs": [
    {
     "data": {
      "application/vnd.jupyter.widget-view+json": {
       "model_id": "4f8017dcea9a4df8a8005816f375e0f8",
       "version_major": 2,
       "version_minor": 0
      },
      "text/plain": [
       "MetricVisualizer(layout=Layout(align_self='stretch', height='500px'))"
      ]
     },
     "metadata": {},
     "output_type": "display_data"
    }
   ],
   "source": [
    "metrics_auc = model.eval_metrics(test_pool, metrics=['AUC'], plot=True)"
   ]
  },
  {
   "cell_type": "code",
   "execution_count": 309,
   "metadata": {},
   "outputs": [
    {
     "name": "stdout",
     "output_type": "stream",
     "text": [
      "AUC: 0.8643278816052798\n"
     ]
    }
   ],
   "source": [
    "auc_test = metrics_auc['AUC'][-1]\n",
    "print(f'AUC: {auc_test}')"
   ]
  },
  {
   "cell_type": "markdown",
   "metadata": {},
   "source": [
    "Оценка Accuracy"
   ]
  },
  {
   "cell_type": "code",
   "execution_count": 310,
   "metadata": {},
   "outputs": [
    {
     "data": {
      "application/vnd.jupyter.widget-view+json": {
       "model_id": "8cdbd696fa034c67a584b14d2281d5b6",
       "version_major": 2,
       "version_minor": 0
      },
      "text/plain": [
       "MetricVisualizer(layout=Layout(align_self='stretch', height='500px'))"
      ]
     },
     "metadata": {},
     "output_type": "display_data"
    }
   ],
   "source": [
    "metrics_accuracy = model.eval_metrics(test_pool, metrics=['Accuracy'], plot=True)"
   ]
  },
  {
   "cell_type": "code",
   "execution_count": 311,
   "metadata": {},
   "outputs": [
    {
     "name": "stdout",
     "output_type": "stream",
     "text": [
      "Accuracy: 0.8595\n"
     ]
    }
   ],
   "source": [
    "accuracy = metrics_accuracy['Accuracy'][-1]\n",
    "print(f'Accuracy: {accuracy}')"
   ]
  },
  {
   "cell_type": "code",
   "execution_count": 322,
   "metadata": {},
   "outputs": [
    {
     "data": {
      "text/plain": [
       "0.01446745021507512"
      ]
     },
     "execution_count": 322,
     "metadata": {},
     "output_type": "execute_result"
    }
   ],
   "source": [
    "np.std(metrics_auc['AUC'])"
   ]
  },
  {
   "cell_type": "code",
   "execution_count": 330,
   "metadata": {},
   "outputs": [],
   "source": [
    "scores_table.loc[len(scores_table)] = ['Hold-Out CV', np.mean(metrics_auc['AUC']), np.std(metrics_auc['AUC']), \n",
    "                                                    np.mean(metrics_accuracy['Accuracy']), np.std(metrics_accuracy['Accuracy'])]"
   ]
  },
  {
   "cell_type": "code",
   "execution_count": 325,
   "metadata": {},
   "outputs": [
    {
     "data": {
      "text/html": [
       "<div>\n",
       "<style scoped>\n",
       "    .dataframe tbody tr th:only-of-type {\n",
       "        vertical-align: middle;\n",
       "    }\n",
       "\n",
       "    .dataframe tbody tr th {\n",
       "        vertical-align: top;\n",
       "    }\n",
       "\n",
       "    .dataframe thead th {\n",
       "        text-align: right;\n",
       "    }\n",
       "</style>\n",
       "<table border=\"1\" class=\"dataframe\">\n",
       "  <thead>\n",
       "    <tr style=\"text-align: right;\">\n",
       "      <th></th>\n",
       "      <th>name</th>\n",
       "      <th>AUC_mean</th>\n",
       "      <th>AUC_std</th>\n",
       "      <th>Accuracy_mean</th>\n",
       "      <th>Accuracy_std</th>\n",
       "    </tr>\n",
       "  </thead>\n",
       "  <tbody>\n",
       "    <tr>\n",
       "      <th>0</th>\n",
       "      <td>Hold-Out CV</td>\n",
       "      <td>0.855063</td>\n",
       "      <td>0.014467</td>\n",
       "      <td>0.857029</td>\n",
       "      <td>0.00764</td>\n",
       "    </tr>\n",
       "  </tbody>\n",
       "</table>\n",
       "</div>"
      ],
      "text/plain": [
       "          name  AUC_mean   AUC_std  Accuracy_mean  Accuracy_std\n",
       "0  Hold-Out CV  0.855063  0.014467       0.857029       0.00764"
      ]
     },
     "execution_count": 325,
     "metadata": {},
     "output_type": "execute_result"
    }
   ],
   "source": [
    "scores_table"
   ]
  },
  {
   "cell_type": "markdown",
   "metadata": {},
   "source": [
    "### 3. k-блочная перекрестная проверка (k-Fold CV)"
   ]
  },
  {
   "cell_type": "markdown",
   "metadata": {},
   "source": [
    "- 🔁 **Реализуйте k-Fold перекрестную проверку** с использованием 5 блоков."
   ]
  },
  {
   "cell_type": "code",
   "execution_count": 278,
   "metadata": {},
   "outputs": [],
   "source": [
    "from sklearn.model_selection import cross_val_score\n",
    "from sklearn.model_selection import KFold"
   ]
  },
  {
   "cell_type": "code",
   "execution_count": 279,
   "metadata": {},
   "outputs": [],
   "source": [
    "kf = KFold(n_splits=5, shuffle=True, random_state=11)"
   ]
  },
  {
   "cell_type": "code",
   "execution_count": 280,
   "metadata": {},
   "outputs": [],
   "source": [
    "kf_scores_accuracy = cross_val_score(model, pd.get_dummies(X, drop_first=True, dtype=int), y, cv=kf, scoring='accuracy')"
   ]
  },
  {
   "cell_type": "code",
   "execution_count": 281,
   "metadata": {},
   "outputs": [],
   "source": [
    "kf_scores_auc = cross_val_score(model, pd.get_dummies(X, drop_first=True, dtype=int), y, cv=kf, scoring='roc_auc')"
   ]
  },
  {
   "cell_type": "markdown",
   "metadata": {},
   "source": [
    "- 📊 **Вычислите среднее значение AUC** для всех блоков."
   ]
  },
  {
   "cell_type": "code",
   "execution_count": 331,
   "metadata": {},
   "outputs": [],
   "source": [
    "scores_table.loc[len(scores_table)] = ['k-Fold CV', kf_scores_auc.mean(), kf_scores_auc.std(), \n",
    "                                            kf_scores_accuracy.mean(),  kf_scores_accuracy.std()]"
   ]
  },
  {
   "cell_type": "code",
   "execution_count": 332,
   "metadata": {},
   "outputs": [
    {
     "data": {
      "text/html": [
       "<div>\n",
       "<style scoped>\n",
       "    .dataframe tbody tr th:only-of-type {\n",
       "        vertical-align: middle;\n",
       "    }\n",
       "\n",
       "    .dataframe tbody tr th {\n",
       "        vertical-align: top;\n",
       "    }\n",
       "\n",
       "    .dataframe thead th {\n",
       "        text-align: right;\n",
       "    }\n",
       "</style>\n",
       "<table border=\"1\" class=\"dataframe\">\n",
       "  <thead>\n",
       "    <tr style=\"text-align: right;\">\n",
       "      <th></th>\n",
       "      <th>name</th>\n",
       "      <th>AUC_mean</th>\n",
       "      <th>AUC_std</th>\n",
       "      <th>Accuracy_mean</th>\n",
       "      <th>Accuracy_std</th>\n",
       "    </tr>\n",
       "  </thead>\n",
       "  <tbody>\n",
       "    <tr>\n",
       "      <th>0</th>\n",
       "      <td>Hold-Out CV</td>\n",
       "      <td>0.855063</td>\n",
       "      <td>0.014467</td>\n",
       "      <td>0.857029</td>\n",
       "      <td>0.007640</td>\n",
       "    </tr>\n",
       "    <tr>\n",
       "      <th>1</th>\n",
       "      <td>k-Fold CV</td>\n",
       "      <td>0.867098</td>\n",
       "      <td>0.013899</td>\n",
       "      <td>0.862900</td>\n",
       "      <td>0.003904</td>\n",
       "    </tr>\n",
       "  </tbody>\n",
       "</table>\n",
       "</div>"
      ],
      "text/plain": [
       "          name  AUC_mean   AUC_std  Accuracy_mean  Accuracy_std\n",
       "0  Hold-Out CV  0.855063  0.014467       0.857029      0.007640\n",
       "1    k-Fold CV  0.867098  0.013899       0.862900      0.003904"
      ]
     },
     "execution_count": 332,
     "metadata": {},
     "output_type": "execute_result"
    }
   ],
   "source": [
    "scores_table"
   ]
  },
  {
   "cell_type": "markdown",
   "metadata": {},
   "source": [
    "### 4. Стратифицированный k-Fold CV"
   ]
  },
  {
   "cell_type": "markdown",
   "metadata": {},
   "source": [
    "- ⚖️ **Выполните стратифицированную k-Fold перекрестную проверку**."
   ]
  },
  {
   "cell_type": "code",
   "execution_count": 285,
   "metadata": {},
   "outputs": [],
   "source": [
    "from sklearn.model_selection import StratifiedKFold"
   ]
  },
  {
   "cell_type": "code",
   "execution_count": 286,
   "metadata": {},
   "outputs": [],
   "source": [
    "skf = StratifiedKFold(n_splits=5)"
   ]
  },
  {
   "cell_type": "code",
   "execution_count": 287,
   "metadata": {},
   "outputs": [],
   "source": [
    "skf_scores_accuracy = cross_val_score(model, pd.get_dummies(X, drop_first=True, dtype=int), y, cv=skf, scoring='accuracy')"
   ]
  },
  {
   "cell_type": "code",
   "execution_count": 288,
   "metadata": {},
   "outputs": [],
   "source": [
    "skf_scores_auc = cross_val_score(model, pd.get_dummies(X, drop_first=True, dtype=int), y, cv=skf, scoring='roc_auc')"
   ]
  },
  {
   "cell_type": "markdown",
   "metadata": {},
   "source": [
    "- 🔍 **Сравните результаты** со стандартной k-Fold проверкой."
   ]
  },
  {
   "cell_type": "code",
   "execution_count": 333,
   "metadata": {},
   "outputs": [],
   "source": [
    "scores_table.loc[len(scores_table)] = ['Stratified k-Fold CV', skf_scores_auc.mean(), skf_scores_auc.std(), \n",
    "                                            skf_scores_accuracy.mean(), skf_scores_accuracy.std()]"
   ]
  },
  {
   "cell_type": "code",
   "execution_count": 334,
   "metadata": {},
   "outputs": [
    {
     "data": {
      "text/html": [
       "<div>\n",
       "<style scoped>\n",
       "    .dataframe tbody tr th:only-of-type {\n",
       "        vertical-align: middle;\n",
       "    }\n",
       "\n",
       "    .dataframe tbody tr th {\n",
       "        vertical-align: top;\n",
       "    }\n",
       "\n",
       "    .dataframe thead th {\n",
       "        text-align: right;\n",
       "    }\n",
       "</style>\n",
       "<table border=\"1\" class=\"dataframe\">\n",
       "  <thead>\n",
       "    <tr style=\"text-align: right;\">\n",
       "      <th></th>\n",
       "      <th>name</th>\n",
       "      <th>AUC_mean</th>\n",
       "      <th>AUC_std</th>\n",
       "      <th>Accuracy_mean</th>\n",
       "      <th>Accuracy_std</th>\n",
       "    </tr>\n",
       "  </thead>\n",
       "  <tbody>\n",
       "    <tr>\n",
       "      <th>0</th>\n",
       "      <td>Hold-Out CV</td>\n",
       "      <td>0.855063</td>\n",
       "      <td>0.014467</td>\n",
       "      <td>0.857029</td>\n",
       "      <td>0.007640</td>\n",
       "    </tr>\n",
       "    <tr>\n",
       "      <th>1</th>\n",
       "      <td>k-Fold CV</td>\n",
       "      <td>0.867098</td>\n",
       "      <td>0.013899</td>\n",
       "      <td>0.862900</td>\n",
       "      <td>0.003904</td>\n",
       "    </tr>\n",
       "    <tr>\n",
       "      <th>2</th>\n",
       "      <td>Stratified k-Fold CV</td>\n",
       "      <td>0.867336</td>\n",
       "      <td>0.002081</td>\n",
       "      <td>0.864400</td>\n",
       "      <td>0.007053</td>\n",
       "    </tr>\n",
       "  </tbody>\n",
       "</table>\n",
       "</div>"
      ],
      "text/plain": [
       "                   name  AUC_mean   AUC_std  Accuracy_mean  Accuracy_std\n",
       "0           Hold-Out CV  0.855063  0.014467       0.857029      0.007640\n",
       "1             k-Fold CV  0.867098  0.013899       0.862900      0.003904\n",
       "2  Stratified k-Fold CV  0.867336  0.002081       0.864400      0.007053"
      ]
     },
     "execution_count": 334,
     "metadata": {},
     "output_type": "execute_result"
    }
   ],
   "source": [
    "scores_table"
   ]
  },
  {
   "cell_type": "markdown",
   "metadata": {},
   "source": [
    "- 📝 **Объясните, в чем преимущество стратифицированного подхода.**"
   ]
  },
  {
   "cell_type": "markdown",
   "metadata": {},
   "source": [
    "Преимущество стратифицированного подхода в сохранении пропорций в каждом блоке (подгруппе), что обеспечивает репрезентативность данных. Это дает возможность получить более корректные значения"
   ]
  },
  {
   "cell_type": "markdown",
   "metadata": {},
   "source": [
    "### 5. Перекрестная проверка с исключением одного (LOOCV)"
   ]
  },
  {
   "cell_type": "markdown",
   "metadata": {},
   "source": [
    "- 🔄 **Реализуйте метод LOOCV**."
   ]
  },
  {
   "cell_type": "code",
   "execution_count": 296,
   "metadata": {},
   "outputs": [],
   "source": [
    "from sklearn.model_selection import LeaveOneOut"
   ]
  },
  {
   "cell_type": "code",
   "execution_count": 297,
   "metadata": {},
   "outputs": [],
   "source": [
    "loo = LeaveOneOut()"
   ]
  },
  {
   "cell_type": "code",
   "execution_count": 303,
   "metadata": {},
   "outputs": [],
   "source": [
    "loo_scores_auc = cross_val_score(model, pd.get_dummies(X, drop_first=True, dtype=int).head(400), y.head(400), cv=loo, scoring='roc_auc', n_jobs=-1)"
   ]
  },
  {
   "cell_type": "code",
   "execution_count": 304,
   "metadata": {},
   "outputs": [],
   "source": [
    "loo_scores_accuracy = cross_val_score(model, pd.get_dummies(X, drop_first=True, dtype=int).head(400), y.head(400), cv=loo, scoring='accuracy', n_jobs=-1)"
   ]
  },
  {
   "cell_type": "markdown",
   "metadata": {},
   "source": [
    "- 📊 **Сравните полученные результаты** с предыдущими методами. Если алгоритм работает долго, попробуйте сократить количество подаваемых строк."
   ]
  },
  {
   "cell_type": "code",
   "execution_count": 335,
   "metadata": {},
   "outputs": [],
   "source": [
    "scores_table.loc[len(scores_table)] = ['LOO CV', loo_scores_auc.mean(), loo_scores_auc.std(), \n",
    "                                            loo_scores_accuracy.mean(), loo_scores_accuracy.std()]"
   ]
  },
  {
   "cell_type": "code",
   "execution_count": 336,
   "metadata": {},
   "outputs": [
    {
     "data": {
      "text/html": [
       "<div>\n",
       "<style scoped>\n",
       "    .dataframe tbody tr th:only-of-type {\n",
       "        vertical-align: middle;\n",
       "    }\n",
       "\n",
       "    .dataframe tbody tr th {\n",
       "        vertical-align: top;\n",
       "    }\n",
       "\n",
       "    .dataframe thead th {\n",
       "        text-align: right;\n",
       "    }\n",
       "</style>\n",
       "<table border=\"1\" class=\"dataframe\">\n",
       "  <thead>\n",
       "    <tr style=\"text-align: right;\">\n",
       "      <th></th>\n",
       "      <th>name</th>\n",
       "      <th>AUC_mean</th>\n",
       "      <th>AUC_std</th>\n",
       "      <th>Accuracy_mean</th>\n",
       "      <th>Accuracy_std</th>\n",
       "    </tr>\n",
       "  </thead>\n",
       "  <tbody>\n",
       "    <tr>\n",
       "      <th>0</th>\n",
       "      <td>Hold-Out CV</td>\n",
       "      <td>0.855063</td>\n",
       "      <td>0.014467</td>\n",
       "      <td>0.857029</td>\n",
       "      <td>0.007640</td>\n",
       "    </tr>\n",
       "    <tr>\n",
       "      <th>1</th>\n",
       "      <td>k-Fold CV</td>\n",
       "      <td>0.867098</td>\n",
       "      <td>0.013899</td>\n",
       "      <td>0.862900</td>\n",
       "      <td>0.003904</td>\n",
       "    </tr>\n",
       "    <tr>\n",
       "      <th>2</th>\n",
       "      <td>Stratified k-Fold CV</td>\n",
       "      <td>0.867336</td>\n",
       "      <td>0.002081</td>\n",
       "      <td>0.864400</td>\n",
       "      <td>0.007053</td>\n",
       "    </tr>\n",
       "    <tr>\n",
       "      <th>3</th>\n",
       "      <td>LOO CV</td>\n",
       "      <td>NaN</td>\n",
       "      <td>NaN</td>\n",
       "      <td>0.855000</td>\n",
       "      <td>0.352101</td>\n",
       "    </tr>\n",
       "  </tbody>\n",
       "</table>\n",
       "</div>"
      ],
      "text/plain": [
       "                   name  AUC_mean   AUC_std  Accuracy_mean  Accuracy_std\n",
       "0           Hold-Out CV  0.855063  0.014467       0.857029      0.007640\n",
       "1             k-Fold CV  0.867098  0.013899       0.862900      0.003904\n",
       "2  Stratified k-Fold CV  0.867336  0.002081       0.864400      0.007053\n",
       "3                LOO CV       NaN       NaN       0.855000      0.352101"
      ]
     },
     "execution_count": 336,
     "metadata": {},
     "output_type": "execute_result"
    }
   ],
   "source": [
    "scores_table"
   ]
  },
  {
   "cell_type": "markdown",
   "metadata": {},
   "source": [
    "### 6. Подготовка сравнительной таблицы"
   ]
  },
  {
   "cell_type": "markdown",
   "metadata": {},
   "source": [
    "- 📊 **Подготовьте сравнительную таблицу для 4 методов валидации точности модели** (type of CV, std, mean)."
   ]
  },
  {
   "cell_type": "code",
   "execution_count": 337,
   "metadata": {},
   "outputs": [
    {
     "data": {
      "text/html": [
       "<div>\n",
       "<style scoped>\n",
       "    .dataframe tbody tr th:only-of-type {\n",
       "        vertical-align: middle;\n",
       "    }\n",
       "\n",
       "    .dataframe tbody tr th {\n",
       "        vertical-align: top;\n",
       "    }\n",
       "\n",
       "    .dataframe thead th {\n",
       "        text-align: right;\n",
       "    }\n",
       "</style>\n",
       "<table border=\"1\" class=\"dataframe\">\n",
       "  <thead>\n",
       "    <tr style=\"text-align: right;\">\n",
       "      <th></th>\n",
       "      <th>name</th>\n",
       "      <th>AUC_mean</th>\n",
       "      <th>AUC_std</th>\n",
       "      <th>Accuracy_mean</th>\n",
       "      <th>Accuracy_std</th>\n",
       "    </tr>\n",
       "  </thead>\n",
       "  <tbody>\n",
       "    <tr>\n",
       "      <th>0</th>\n",
       "      <td>Hold-Out CV</td>\n",
       "      <td>0.855063</td>\n",
       "      <td>0.014467</td>\n",
       "      <td>0.857029</td>\n",
       "      <td>0.007640</td>\n",
       "    </tr>\n",
       "    <tr>\n",
       "      <th>1</th>\n",
       "      <td>k-Fold CV</td>\n",
       "      <td>0.867098</td>\n",
       "      <td>0.013899</td>\n",
       "      <td>0.862900</td>\n",
       "      <td>0.003904</td>\n",
       "    </tr>\n",
       "    <tr>\n",
       "      <th>2</th>\n",
       "      <td>Stratified k-Fold CV</td>\n",
       "      <td>0.867336</td>\n",
       "      <td>0.002081</td>\n",
       "      <td>0.864400</td>\n",
       "      <td>0.007053</td>\n",
       "    </tr>\n",
       "    <tr>\n",
       "      <th>3</th>\n",
       "      <td>LOO CV</td>\n",
       "      <td>NaN</td>\n",
       "      <td>NaN</td>\n",
       "      <td>0.855000</td>\n",
       "      <td>0.352101</td>\n",
       "    </tr>\n",
       "  </tbody>\n",
       "</table>\n",
       "</div>"
      ],
      "text/plain": [
       "                   name  AUC_mean   AUC_std  Accuracy_mean  Accuracy_std\n",
       "0           Hold-Out CV  0.855063  0.014467       0.857029      0.007640\n",
       "1             k-Fold CV  0.867098  0.013899       0.862900      0.003904\n",
       "2  Stratified k-Fold CV  0.867336  0.002081       0.864400      0.007053\n",
       "3                LOO CV       NaN       NaN       0.855000      0.352101"
      ]
     },
     "execution_count": 337,
     "metadata": {},
     "output_type": "execute_result"
    }
   ],
   "source": [
    "scores_table"
   ]
  },
  {
   "cell_type": "markdown",
   "metadata": {},
   "source": [
    "### 7. Задание на доп балл"
   ]
  },
  {
   "cell_type": "markdown",
   "metadata": {},
   "source": [
    "- 🏆 **Выведите таблицу с метриками** для порогов отсечения 0.05, 0.1, 0.15, 0.25, 0.3 для положительного класса \n",
    "(Только для Hold-Out CV)."
   ]
  },
  {
   "cell_type": "code",
   "execution_count": 350,
   "metadata": {},
   "outputs": [],
   "source": [
    "from sklearn.metrics import accuracy_score, precision_score, recall_score, f1_score"
   ]
  },
  {
   "cell_type": "code",
   "execution_count": 411,
   "metadata": {},
   "outputs": [],
   "source": [
    "y_probs = model.predict_proba(X_test)[:, 1]\n",
    "thresholds = [0.05, 0.1, 0.15, 0.25, 0.3]\n",
    "# Можно было использовать:\n",
    "# thresholds = [x for x in np.arange(0.05, 0.31, 0.05)]\n",
    "# Но также появиться значение 0.2, а так как его нет в условии этот способ я не использовал"
   ]
  },
  {
   "cell_type": "code",
   "execution_count": 406,
   "metadata": {},
   "outputs": [],
   "source": [
    "metrics_info = pd.DataFrame(columns=['Threshold', 'Accuracy', 'Precision', 'Recall', 'F1 Score'])\n",
    "metrics_info['Threshold'] = thresholds"
   ]
  },
  {
   "cell_type": "code",
   "execution_count": 407,
   "metadata": {},
   "outputs": [],
   "source": [
    "def get_matrics(y_test, y_probs, threshold):\n",
    "    y_pred = (threshold <= y_probs).astype(int)\n",
    "    accuracy = accuracy_score(y_test, y_pred)\n",
    "    precision = precision_score(y_test, y_pred)\n",
    "    recall = recall_score(y_test, y_pred)\n",
    "    f1 = f1_score(y_test, y_pred)\n",
    "    return [accuracy, precision, recall, f1]"
   ]
  },
  {
   "cell_type": "code",
   "execution_count": 408,
   "metadata": {},
   "outputs": [],
   "source": [
    "metrics_array = [[] for x in range(4)]\n",
    "for threshold in thresholds:\n",
    "    matrics = get_matrics(y_test, y_probs, threshold)\n",
    "    metrics_array[0].append(matrics[0])\n",
    "    metrics_array[1].append(matrics[1])\n",
    "    metrics_array[2].append(matrics[2])\n",
    "    metrics_array[3].append(matrics[3])"
   ]
  },
  {
   "cell_type": "code",
   "execution_count": 409,
   "metadata": {},
   "outputs": [],
   "source": [
    "for column in range(4):\n",
    "    metrics_info[metrics_info.columns[column+1]] = metrics_array[column]"
   ]
  },
  {
   "cell_type": "code",
   "execution_count": 410,
   "metadata": {},
   "outputs": [
    {
     "data": {
      "text/html": [
       "<div>\n",
       "<style scoped>\n",
       "    .dataframe tbody tr th:only-of-type {\n",
       "        vertical-align: middle;\n",
       "    }\n",
       "\n",
       "    .dataframe tbody tr th {\n",
       "        vertical-align: top;\n",
       "    }\n",
       "\n",
       "    .dataframe thead th {\n",
       "        text-align: right;\n",
       "    }\n",
       "</style>\n",
       "<table border=\"1\" class=\"dataframe\">\n",
       "  <thead>\n",
       "    <tr style=\"text-align: right;\">\n",
       "      <th></th>\n",
       "      <th>Threshold</th>\n",
       "      <th>Accuracy</th>\n",
       "      <th>Precision</th>\n",
       "      <th>Recall</th>\n",
       "      <th>F1 Score</th>\n",
       "    </tr>\n",
       "  </thead>\n",
       "  <tbody>\n",
       "    <tr>\n",
       "      <th>0</th>\n",
       "      <td>0.05</td>\n",
       "      <td>0.4230</td>\n",
       "      <td>0.252941</td>\n",
       "      <td>0.972362</td>\n",
       "      <td>0.401452</td>\n",
       "    </tr>\n",
       "    <tr>\n",
       "      <th>1</th>\n",
       "      <td>0.10</td>\n",
       "      <td>0.6225</td>\n",
       "      <td>0.335787</td>\n",
       "      <td>0.917085</td>\n",
       "      <td>0.491582</td>\n",
       "    </tr>\n",
       "    <tr>\n",
       "      <th>2</th>\n",
       "      <td>0.15</td>\n",
       "      <td>0.7275</td>\n",
       "      <td>0.408922</td>\n",
       "      <td>0.829146</td>\n",
       "      <td>0.547718</td>\n",
       "    </tr>\n",
       "    <tr>\n",
       "      <th>3</th>\n",
       "      <td>0.25</td>\n",
       "      <td>0.8095</td>\n",
       "      <td>0.515206</td>\n",
       "      <td>0.723618</td>\n",
       "      <td>0.601881</td>\n",
       "    </tr>\n",
       "    <tr>\n",
       "      <th>4</th>\n",
       "      <td>0.30</td>\n",
       "      <td>0.8350</td>\n",
       "      <td>0.574236</td>\n",
       "      <td>0.660804</td>\n",
       "      <td>0.614486</td>\n",
       "    </tr>\n",
       "  </tbody>\n",
       "</table>\n",
       "</div>"
      ],
      "text/plain": [
       "   Threshold  Accuracy  Precision    Recall  F1 Score\n",
       "0       0.05    0.4230   0.252941  0.972362  0.401452\n",
       "1       0.10    0.6225   0.335787  0.917085  0.491582\n",
       "2       0.15    0.7275   0.408922  0.829146  0.547718\n",
       "3       0.25    0.8095   0.515206  0.723618  0.601881\n",
       "4       0.30    0.8350   0.574236  0.660804  0.614486"
      ]
     },
     "execution_count": 410,
     "metadata": {},
     "output_type": "execute_result"
    }
   ],
   "source": [
    "metrics_info"
   ]
  }
 ],
 "metadata": {
  "kernelspec": {
   "display_name": ".venv",
   "language": "python",
   "name": "python3"
  },
  "language_info": {
   "codemirror_mode": {
    "name": "ipython",
    "version": 3
   },
   "file_extension": ".py",
   "mimetype": "text/x-python",
   "name": "python",
   "nbconvert_exporter": "python",
   "pygments_lexer": "ipython3",
   "version": "3.12.2"
  }
 },
 "nbformat": 4,
 "nbformat_minor": 2
}
